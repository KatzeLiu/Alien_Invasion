{
 "cells": [
  {
   "cell_type": "code",
   "execution_count": 3,
   "metadata": {},
   "outputs": [
    {
     "ename": "SystemExit",
     "evalue": "",
     "output_type": "error",
     "traceback": [
      "An exception has occurred, use %tb to see the full traceback.\n",
      "\u001b[0;31mSystemExit\u001b[0m\n"
     ]
    },
    {
     "name": "stderr",
     "output_type": "stream",
     "text": [
      "/usr/local/lib/python3.7/site-packages/IPython/core/interactiveshell.py:3327: UserWarning: To exit: use 'exit', 'quit', or Ctrl-D.\n",
      "  warn(\"To exit: use 'exit', 'quit', or Ctrl-D.\", stacklevel=1)\n"
     ]
    }
   ],
   "source": [
    "import pygame\n",
    "from pygame.sprite import Group\n",
    "from settings import Settings\n",
    "from ship import Ship\n",
    "import game_functions as gf\n",
    "\n",
    "def run_game():\n",
    "    # Initialize game and create a screen object.\n",
    "    pygame.init()\n",
    "    ai_settings = Settings()\n",
    "    screen = pygame.display.set_mode(\n",
    "        (ai_settings.screen_width, ai_settings.screen_height))\n",
    "    pygame.display.set_caption(\"Alien Invasion\")\n",
    "    \n",
    "    # Make a ship.\n",
    "    ship = Ship(ai_settings, screen)\n",
    "    \n",
    "    # Make agroup to store bulltes in.\n",
    "    bullets = Group()\n",
    "    \n",
    "    # Start the main loop for the game.\n",
    "    while True:\n",
    "        \n",
    "        # Watch for the keyboard and mouse events.\n",
    "        gf.check_events(ai_settings, screen, ship, bullets)\n",
    "        ship.update()\n",
    "        bullets.update()\n",
    "        \n",
    "        # Get rid of bullets that have disappeared.\n",
    "        gf.update_bullets(bullets)\n",
    "               \n",
    "        \n",
    "        #Redraw the screen during each pass through the loop.\n",
    "        gf.update_screen(ai_settings, screen, ship, bullets)\n",
    "        \n",
    "run_game()\n",
    "\n",
    "            \n"
   ]
  },
  {
   "cell_type": "code",
   "execution_count": null,
   "metadata": {},
   "outputs": [],
   "source": []
  },
  {
   "cell_type": "code",
   "execution_count": null,
   "metadata": {},
   "outputs": [],
   "source": []
  }
 ],
 "metadata": {
  "kernelspec": {
   "display_name": "Python 3",
   "language": "python",
   "name": "python3"
  },
  "language_info": {
   "codemirror_mode": {
    "name": "ipython",
    "version": 3
   },
   "file_extension": ".py",
   "mimetype": "text/x-python",
   "name": "python",
   "nbconvert_exporter": "python",
   "pygments_lexer": "ipython3",
   "version": "3.7.5"
  }
 },
 "nbformat": 4,
 "nbformat_minor": 4
}
